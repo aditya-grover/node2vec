{
 "cells": [
  {
   "cell_type": "code",
   "execution_count": 50,
   "id": "937def9f",
   "metadata": {},
   "outputs": [],
   "source": [
    "from sklearn.linear_model import LogisticRegression as lr\n",
    "from sklearn.multiclass import OneVsRestClassifier\n",
    "from sklearn.metrics import f1_score\n",
    "from sklearn.preprocessing import MultiLabelBinarizer\n",
    "from sklearn.model_selection import train_test_split\n",
    "import matplotlib.pyplot as plt\n",
    "import pandas  as pd\n",
    "import numpy as np\n",
    "from enum import Enum"
   ]
  },
  {
   "cell_type": "code",
   "execution_count": 51,
   "id": "90912125",
   "metadata": {},
   "outputs": [
    {
     "data": {
      "text/html": [
       "<div>\n",
       "<style scoped>\n",
       "    .dataframe tbody tr th:only-of-type {\n",
       "        vertical-align: middle;\n",
       "    }\n",
       "\n",
       "    .dataframe tbody tr th {\n",
       "        vertical-align: top;\n",
       "    }\n",
       "\n",
       "    .dataframe thead th {\n",
       "        text-align: right;\n",
       "    }\n",
       "</style>\n",
       "<table border=\"1\" class=\"dataframe\">\n",
       "  <thead>\n",
       "    <tr style=\"text-align: right;\">\n",
       "      <th></th>\n",
       "      <th>node_id</th>\n",
       "      <th>f1</th>\n",
       "      <th>f2</th>\n",
       "      <th>f3</th>\n",
       "      <th>f4</th>\n",
       "      <th>f5</th>\n",
       "      <th>f6</th>\n",
       "      <th>f7</th>\n",
       "      <th>f8</th>\n",
       "      <th>f9</th>\n",
       "      <th>...</th>\n",
       "      <th>f120</th>\n",
       "      <th>f121</th>\n",
       "      <th>f122</th>\n",
       "      <th>f123</th>\n",
       "      <th>f124</th>\n",
       "      <th>f125</th>\n",
       "      <th>f126</th>\n",
       "      <th>f127</th>\n",
       "      <th>f128</th>\n",
       "      <th>labels</th>\n",
       "    </tr>\n",
       "  </thead>\n",
       "  <tbody>\n",
       "    <tr>\n",
       "      <th>0</th>\n",
       "      <td>126</td>\n",
       "      <td>-0.233398</td>\n",
       "      <td>0.150677</td>\n",
       "      <td>-0.467689</td>\n",
       "      <td>-0.144637</td>\n",
       "      <td>-0.199214</td>\n",
       "      <td>-0.247189</td>\n",
       "      <td>-0.281126</td>\n",
       "      <td>-0.055526</td>\n",
       "      <td>-0.148457</td>\n",
       "      <td>...</td>\n",
       "      <td>0.292934</td>\n",
       "      <td>0.074813</td>\n",
       "      <td>-0.094239</td>\n",
       "      <td>0.441123</td>\n",
       "      <td>0.575557</td>\n",
       "      <td>-0.091120</td>\n",
       "      <td>-0.473621</td>\n",
       "      <td>-0.033900</td>\n",
       "      <td>-0.234112</td>\n",
       "      <td>[2]</td>\n",
       "    </tr>\n",
       "    <tr>\n",
       "      <th>1</th>\n",
       "      <td>120</td>\n",
       "      <td>-0.158898</td>\n",
       "      <td>0.081275</td>\n",
       "      <td>-0.605265</td>\n",
       "      <td>-0.230407</td>\n",
       "      <td>-0.110799</td>\n",
       "      <td>-0.215735</td>\n",
       "      <td>-0.241985</td>\n",
       "      <td>0.070773</td>\n",
       "      <td>-0.098156</td>\n",
       "      <td>...</td>\n",
       "      <td>0.167845</td>\n",
       "      <td>-0.041002</td>\n",
       "      <td>-0.119213</td>\n",
       "      <td>0.368439</td>\n",
       "      <td>0.481831</td>\n",
       "      <td>0.016912</td>\n",
       "      <td>-0.460111</td>\n",
       "      <td>-0.034474</td>\n",
       "      <td>-0.181252</td>\n",
       "      <td>[2]</td>\n",
       "    </tr>\n",
       "    <tr>\n",
       "      <th>2</th>\n",
       "      <td>125</td>\n",
       "      <td>-0.230896</td>\n",
       "      <td>0.227075</td>\n",
       "      <td>-0.722653</td>\n",
       "      <td>-0.340134</td>\n",
       "      <td>-0.191869</td>\n",
       "      <td>-0.104645</td>\n",
       "      <td>-0.159327</td>\n",
       "      <td>-0.073393</td>\n",
       "      <td>-0.067792</td>\n",
       "      <td>...</td>\n",
       "      <td>0.107002</td>\n",
       "      <td>-0.003419</td>\n",
       "      <td>-0.180541</td>\n",
       "      <td>0.165857</td>\n",
       "      <td>0.264213</td>\n",
       "      <td>-0.010101</td>\n",
       "      <td>-0.492845</td>\n",
       "      <td>0.033807</td>\n",
       "      <td>-0.277855</td>\n",
       "      <td>[2]</td>\n",
       "    </tr>\n",
       "    <tr>\n",
       "      <th>3</th>\n",
       "      <td>128</td>\n",
       "      <td>-0.202243</td>\n",
       "      <td>0.173104</td>\n",
       "      <td>-0.637553</td>\n",
       "      <td>0.045365</td>\n",
       "      <td>-0.382987</td>\n",
       "      <td>-0.192707</td>\n",
       "      <td>-0.392803</td>\n",
       "      <td>-0.054293</td>\n",
       "      <td>-0.139644</td>\n",
       "      <td>...</td>\n",
       "      <td>0.072128</td>\n",
       "      <td>-0.059515</td>\n",
       "      <td>-0.068001</td>\n",
       "      <td>0.285797</td>\n",
       "      <td>0.344174</td>\n",
       "      <td>0.136901</td>\n",
       "      <td>-0.470190</td>\n",
       "      <td>0.014860</td>\n",
       "      <td>-0.188295</td>\n",
       "      <td>[2]</td>\n",
       "    </tr>\n",
       "    <tr>\n",
       "      <th>4</th>\n",
       "      <td>129</td>\n",
       "      <td>-0.344308</td>\n",
       "      <td>0.178972</td>\n",
       "      <td>-0.539242</td>\n",
       "      <td>-0.074589</td>\n",
       "      <td>-0.339896</td>\n",
       "      <td>-0.181921</td>\n",
       "      <td>-0.150962</td>\n",
       "      <td>-0.057977</td>\n",
       "      <td>-0.224745</td>\n",
       "      <td>...</td>\n",
       "      <td>0.130746</td>\n",
       "      <td>-0.108217</td>\n",
       "      <td>-0.230323</td>\n",
       "      <td>0.237770</td>\n",
       "      <td>0.513008</td>\n",
       "      <td>0.167077</td>\n",
       "      <td>-0.460232</td>\n",
       "      <td>-0.096057</td>\n",
       "      <td>-0.216030</td>\n",
       "      <td>[2]</td>\n",
       "    </tr>\n",
       "  </tbody>\n",
       "</table>\n",
       "<p>5 rows × 130 columns</p>\n",
       "</div>"
      ],
      "text/plain": [
       "   node_id        f1        f2        f3        f4        f5        f6  \\\n",
       "0      126 -0.233398  0.150677 -0.467689 -0.144637 -0.199214 -0.247189   \n",
       "1      120 -0.158898  0.081275 -0.605265 -0.230407 -0.110799 -0.215735   \n",
       "2      125 -0.230896  0.227075 -0.722653 -0.340134 -0.191869 -0.104645   \n",
       "3      128 -0.202243  0.173104 -0.637553  0.045365 -0.382987 -0.192707   \n",
       "4      129 -0.344308  0.178972 -0.539242 -0.074589 -0.339896 -0.181921   \n",
       "\n",
       "         f7        f8        f9  ...      f120      f121      f122      f123  \\\n",
       "0 -0.281126 -0.055526 -0.148457  ...  0.292934  0.074813 -0.094239  0.441123   \n",
       "1 -0.241985  0.070773 -0.098156  ...  0.167845 -0.041002 -0.119213  0.368439   \n",
       "2 -0.159327 -0.073393 -0.067792  ...  0.107002 -0.003419 -0.180541  0.165857   \n",
       "3 -0.392803 -0.054293 -0.139644  ...  0.072128 -0.059515 -0.068001  0.285797   \n",
       "4 -0.150962 -0.057977 -0.224745  ...  0.130746 -0.108217 -0.230323  0.237770   \n",
       "\n",
       "       f124      f125      f126      f127      f128  labels  \n",
       "0  0.575557 -0.091120 -0.473621 -0.033900 -0.234112     [2]  \n",
       "1  0.481831  0.016912 -0.460111 -0.034474 -0.181252     [2]  \n",
       "2  0.264213 -0.010101 -0.492845  0.033807 -0.277855     [2]  \n",
       "3  0.344174  0.136901 -0.470190  0.014860 -0.188295     [2]  \n",
       "4  0.513008  0.167077 -0.460232 -0.096057 -0.216030     [2]  \n",
       "\n",
       "[5 rows x 130 columns]"
      ]
     },
     "execution_count": 51,
     "metadata": {},
     "output_type": "execute_result"
    }
   ],
   "source": [
    "class Datasets(Enum):\n",
    "    PPI = 1\n",
    "    KKI = 2\n",
    "    CORA = 3\n",
    "    TERR = 4\n",
    "    \n",
    "DATASET_USED = Datasets.TERR\n",
    "\n",
    "def get_ppi_dataset(emb_file):\n",
    "    \"\"\"\n",
    "    returns a dataframe with embeddings and labels\n",
    "    \"\"\"\n",
    "    # first row has the # of nodes and features\n",
    "    emb_df = pd.read_csv(emb_file, sep=\" \", skiprows=1, header=None)\n",
    "    emb_df.columns = ['node_id'] + [f\"f{x}\" for x in range(1, emb_df.shape[1])]\n",
    "\n",
    "    lines = [line for line in open(LABELS_FILE).read().splitlines()]\n",
    "    node_ids = [int(line.split()[0]) for line in lines]\n",
    "    labels = [list(map(int, line.split()[1:])) for line in lines]\n",
    "    input_df = pd.DataFrame({'node_id': node_ids, 'labels': labels})\n",
    "    \n",
    "    result_df = pd.merge(emb_df, input_df, on='node_id', how='inner')\n",
    "    \n",
    "    return result_df\n",
    "\n",
    "def get_kki_dataset(emb_file):\n",
    "    \"\"\"\n",
    "    returns a dataframe with embeddings and labels\n",
    "    \"\"\"\n",
    "    # first row has the # of nodes and features\n",
    "    emb_df = pd.read_csv(emb_file, sep=\" \", skiprows=1, header=None)\n",
    "    emb_df.columns = ['node_id'] + [f\"f{x}\" for x in range(1, emb_df.shape[1])]\n",
    "\n",
    "    labels = [[int(line)] for line in open(LABELS_FILE).read().splitlines()]\n",
    "    node_ids = [x for x in range(1, len(labels)+1)]\n",
    "    input_df = pd.DataFrame({'node_id': node_ids, 'labels': labels})\n",
    "    \n",
    "    result_df = pd.merge(emb_df, input_df, on='node_id', how='inner')\n",
    "    \n",
    "    return result_df\n",
    "\n",
    "# Used as well for terroristrel graph\n",
    "def get_cora_dataset(emb_file):\n",
    "    emb_df = pd.read_csv(emb_file, sep=\" \", skiprows=1, header=None)\n",
    "    emb_df.columns = ['node_id'] + [f\"f{x}\" for x in range(1, emb_df.shape[1])]\n",
    "\n",
    "    input_df = pd.read_csv(LABELS_FILE, header=None, names=[\"node_id\", \"label\"])\n",
    "    input_df_grouped = input_df.groupby(by=['node_id'])['label'].apply(list).reset_index(name ='labels')\n",
    "    result_df = pd.merge(emb_df, input_df_grouped, on='node_id', how='inner')\n",
    "    \n",
    "    return result_df\n",
    "\n",
    "if DATASET_USED == Datasets.TERR:\n",
    "    FILE_NAME = \"TerroristRel\"\n",
    "    LABELS_FILE = \"../graph/TerrorisRel/TerroristRel.node_labels\"\n",
    "    emb_file = \"../emb/TerroristRel.emb\"\n",
    "    INPUT_FILE = \"../graph/TerrorisRel/TerroristRel.edges\"\n",
    "    df = get_cora_dataset(emb_file)\n",
    "if DATASET_USED == Datasets.CORA:\n",
    "    FILE_NAME = \"cora\"\n",
    "    LABELS_FILE = \"../graph/cora/cora.node_labels\"\n",
    "    emb_file = \"../emb/cora.emb\"\n",
    "    INPUT_FILE = \"../graph/cora/cora.edges\"\n",
    "    df = get_cora_dataset(emb_file)\n",
    "elif DATASET_USED == Datasets.PPI:\n",
    "    FILE_NAME = \"ppi\"\n",
    "    LABELS_FILE = \"../graph/PPI/ppi_labels.txt\"\n",
    "    emb_file = \"../emb/ppi.emb\"\n",
    "    INPUT_FILE = \"../graph/PPI/ppi.edgelist\"\n",
    "    df = get_ppi_dataset(emb_file)\n",
    "elif DATASET_USED == Datasets.KKI:\n",
    "    FILE_NAME = \"KKI\"\n",
    "    LABELS_FILE = \"../graph/KKI/KKI.node_labels\"\n",
    "    emb_file = \"../emb/kki.emb\"\n",
    "    INPUT_FILE = \"../graph/KKI/KKI.edges\"\n",
    "    df = get_kki_dataset(emb_file)\n",
    "    \n",
    "df.head()"
   ]
  },
  {
   "cell_type": "code",
   "execution_count": 52,
   "id": "4c60ef12",
   "metadata": {},
   "outputs": [],
   "source": [
    "# Extend prediction function for the OVR logistic regression model\n",
    "# This code is taken from https://github.com/Kombustor/submission-ecir2020-randomwalks/blob/submission/impl/model/classify.py#L11\n",
    "class TopKRanker(OneVsRestClassifier):\n",
    "    def predict(self, X, top_k_list):\n",
    "        \"\"\"\n",
    "        return the labels with the highest k probabilities prediction, where k is the number of labels Y_test have\n",
    "        \"\"\"\n",
    "        probs = np.asarray(super(TopKRanker, self).predict_proba(X))\n",
    "        all_labels = []\n",
    "        for i, k in enumerate(top_k_list):\n",
    "            probs_ = probs[i, :]\n",
    "            labels = self.classes_[probs_.argsort()[-k:]].tolist()\n",
    "            probs_[:] = 0\n",
    "            probs_[labels] = 1\n",
    "            all_labels.append(probs_)\n",
    "        return np.asarray(all_labels)"
   ]
  },
  {
   "cell_type": "code",
   "execution_count": 53,
   "id": "30f1f9e5",
   "metadata": {
    "scrolled": true
   },
   "outputs": [],
   "source": [
    "def evaluate(df, test_sizes, num_iter=10):\n",
    "    evaluations_micro = []\n",
    "    evaluations_macro = []\n",
    "\n",
    "    Y = df['labels']\n",
    "    X = df.drop(columns=['labels', 'node_id'])\n",
    "\n",
    "    # binarize data\n",
    "    binarizer = MultiLabelBinarizer()\n",
    "    binarizer.fit(Y)\n",
    "\n",
    "    # Linear regression uses L2 regularization by default\n",
    "    ovr_lr =  OneVsRestClassifier(lr(solver='liblinear'))\n",
    "    clf = TopKRanker(ovr_lr)\n",
    "\n",
    "    for test_size in test_sizes:\n",
    "        micro_scores = []\n",
    "        macro_scores = []\n",
    "        for x in range(num_iter):\n",
    "\n",
    "            X_train, X_test, Y_train, Y_test = train_test_split(X, Y, test_size=test_size)\n",
    "\n",
    "            Y_train = binarizer.transform(Y_train)\n",
    "\n",
    "            top_k_list = [len(l) for l in Y_test]\n",
    "            Y_test = binarizer.transform(Y_test)\n",
    "\n",
    "            # evaluation\n",
    "            clf.fit(X_train, Y_train)\n",
    "            Y_pred = clf.predict(X_test, top_k_list=top_k_list)\n",
    "\n",
    "            micro_scores.append(f1_score(Y_test, Y_pred, average='micro', zero_division=0))\n",
    "            macro_scores.append(f1_score(Y_test, Y_pred, average='macro', zero_division=0))\n",
    "        \n",
    "        evaluations_micro.append(sum(micro_scores)/num_iter*100)\n",
    "        evaluations_macro.append(sum(macro_scores)/num_iter*100)\n",
    "        print(f\"Perc: {test_size}\")\n",
    "    return evaluations_micro, evaluations_macro\n",
    "\n",
    "def plot_scores(micro, macro, test_size):\n",
    "    fig, ax = plt.subplots(figsize=(12, 6))\n",
    "\n",
    "    micro.reverse()\n",
    "    macro.reverse()\n",
    "    \n",
    "    plt.plot(test_size, micro, marker='o', label='Micro F$_1$')\n",
    "    plt.plot(test_size, macro, marker='o', label='Macro F$_1$')\n",
    "        \n",
    "    plt.xlabel(\"Training perc\")\n",
    "    plt.ylabel(\"Score\")\n",
    "    plt.legend(loc='best')\n",
    "    plt.savefig(f\"../images/classification/test_sizes_{FILE_NAME}.png\", dpi=300)"
   ]
  },
  {
   "cell_type": "code",
   "execution_count": 37,
   "id": "1db5e265",
   "metadata": {
    "scrolled": true
   },
   "outputs": [
    {
     "name": "stdout",
     "output_type": "stream",
     "text": [
      "Perc: 0.1\n",
      "Perc: 0.2\n",
      "Perc: 0.3\n",
      "Perc: 0.4\n",
      "Perc: 0.5\n",
      "Perc: 0.6\n",
      "Perc: 0.7\n",
      "Perc: 0.8\n",
      "Perc: 0.9\n"
     ]
    },
    {
     "data": {
      "image/png": "[encoded data removed]",
      "text/plain": [
       "<Figure size 864x432 with 1 Axes>"
      ]
     },
     "metadata": {
      "needs_background": "light"
     },
     "output_type": "display_data"
    }
   ],
   "source": [
    "test_size_exp =  [x/10 for x in range(1, 10)]\n",
    "micro, macro = evaluate(df, test_size_exp, 10)\n",
    "plot_scores(micro, macro, test_size_exp)"
   ]
  },
  {
   "cell_type": "markdown",
   "id": "f1aafcae",
   "metadata": {},
   "source": [
    "# Grid search for q and p"
   ]
  },
  {
   "cell_type": "code",
   "execution_count": 54,
   "id": "eb6140cc",
   "metadata": {},
   "outputs": [],
   "source": [
    "import subprocess\n",
    "\n",
    "def run_node2vec(input_file, output_file, p=1, q=1, is_weighted=False, delimiter='\" \"'):\n",
    "    cmd = f\"python main.py --p {p} --q {q} --input {input_file} --output {output_file} --delimiter {delimiter}\"\n",
    "    if is_weighted: cmd += \" --weighted\"\n",
    "    subprocess.run(cmd, shell=True, stdout=subprocess.PIPE)"
   ]
  },
  {
   "cell_type": "code",
   "execution_count": 40,
   "id": "68fce045",
   "metadata": {
    "scrolled": true
   },
   "outputs": [
    {
     "name": "stdout",
     "output_type": "stream",
     "text": [
      "p: 0.25 q: 0.25\n"
     ]
    },
    {
     "name": "stderr",
     "output_type": "stream",
     "text": [
      "Preprocessing Nodes: : 0it [00:00, ?it/s]\n",
      "Preprocessing Nodes: : 0it [00:00, ?it/s]A\n",
      "\n",
      "Preprocessing Edges: 100%|██████████| 881/881 [00:00<00:00, 26450.65it/s]\u001b[A\n",
      "100%|██████████| 8592/8592 [00:05<00:00, 1528.23it/s] \n"
     ]
    },
    {
     "name": "stdout",
     "output_type": "stream",
     "text": [
      "Perc: 0.5\n",
      "p: 0.25 q: 0.5\n"
     ]
    },
    {
     "name": "stderr",
     "output_type": "stream",
     "text": [
      "Preprocessing Nodes: : 0it [00:00, ?it/s]\n",
      "Preprocessing Nodes: : 0it [00:00, ?it/s]A\n",
      "\n",
      "Preprocessing Edges: 100%|██████████| 881/881 [00:00<00:00, 30309.00it/s]\u001b[A\n",
      "100%|██████████| 8592/8592 [00:05<00:00, 1601.84it/s]\n"
     ]
    },
    {
     "name": "stdout",
     "output_type": "stream",
     "text": [
      "Perc: 0.5\n",
      "p: 0.25 q: 1\n"
     ]
    },
    {
     "name": "stderr",
     "output_type": "stream",
     "text": [
      "Preprocessing Nodes: : 0it [00:00, ?it/s]\n",
      "Preprocessing Nodes: : 0it [00:00, ?it/s]A\n",
      "\n",
      "Preprocessing Edges: 100%|██████████| 881/881 [00:00<00:00, 29248.15it/s]\u001b[A\n",
      "100%|██████████| 8592/8592 [00:05<00:00, 1510.06it/s] \n"
     ]
    },
    {
     "name": "stdout",
     "output_type": "stream",
     "text": [
      "Perc: 0.5\n",
      "p: 0.25 q: 2\n"
     ]
    },
    {
     "name": "stderr",
     "output_type": "stream",
     "text": [
      "Preprocessing Nodes: : 0it [00:00, ?it/s]\n",
      "Preprocessing Nodes: : 0it [00:00, ?it/s]A\n",
      "\n",
      "Preprocessing Edges: 100%|██████████| 881/881 [00:00<00:00, 26092.23it/s]\u001b[A\n",
      "100%|██████████| 8592/8592 [00:05<00:00, 1635.68it/s]\n"
     ]
    },
    {
     "name": "stdout",
     "output_type": "stream",
     "text": [
      "Perc: 0.5\n",
      "p: 0.25 q: 4\n"
     ]
    },
    {
     "name": "stderr",
     "output_type": "stream",
     "text": [
      "Preprocessing Nodes: : 0it [00:00, ?it/s]\n",
      "Preprocessing Nodes: : 0it [00:00, ?it/s]A\n",
      "\n",
      "Preprocessing Edges: 100%|██████████| 881/881 [00:00<00:00, 31613.82it/s]\u001b[A\n",
      "100%|██████████| 8592/8592 [00:05<00:00, 1442.72it/s] \n"
     ]
    },
    {
     "name": "stdout",
     "output_type": "stream",
     "text": [
      "Perc: 0.5\n",
      "p: 0.5 q: 0.25\n"
     ]
    },
    {
     "name": "stderr",
     "output_type": "stream",
     "text": [
      "Preprocessing Nodes: : 0it [00:00, ?it/s]\n",
      "Preprocessing Nodes: : 0it [00:00, ?it/s]A\n",
      "\n",
      "Preprocessing Edges: 100%|██████████| 881/881 [00:00<00:00, 30399.51it/s]\u001b[A\n",
      "100%|██████████| 8592/8592 [00:05<00:00, 1453.52it/s] \n"
     ]
    },
    {
     "name": "stdout",
     "output_type": "stream",
     "text": [
      "Perc: 0.5\n",
      "p: 0.5 q: 0.5\n"
     ]
    },
    {
     "name": "stderr",
     "output_type": "stream",
     "text": [
      "Preprocessing Nodes: : 0it [00:00, ?it/s]\n",
      "Preprocessing Nodes: : 0it [00:00, ?it/s]A\n",
      "\n",
      "Preprocessing Edges: 100%|██████████| 881/881 [00:00<00:00, 30133.26it/s]\u001b[A\n",
      "100%|██████████| 8592/8592 [00:05<00:00, 1484.18it/s] \n"
     ]
    },
    {
     "name": "stdout",
     "output_type": "stream",
     "text": [
      "Perc: 0.5\n",
      "p: 0.5 q: 1\n"
     ]
    },
    {
     "name": "stderr",
     "output_type": "stream",
     "text": [
      "Preprocessing Nodes: : 0it [00:00, ?it/s]\n",
      "Preprocessing Nodes: : 0it [00:00, ?it/s]A\n",
      "\n",
      "Preprocessing Edges: 100%|██████████| 881/881 [00:00<00:00, 29723.87it/s]\u001b[A\n",
      "100%|██████████| 8592/8592 [00:05<00:00, 1599.54it/s]\n"
     ]
    },
    {
     "name": "stdout",
     "output_type": "stream",
     "text": [
      "Perc: 0.5\n",
      "p: 0.5 q: 2\n"
     ]
    },
    {
     "name": "stderr",
     "output_type": "stream",
     "text": [
      "Preprocessing Nodes: : 0it [00:00, ?it/s]\n",
      "Preprocessing Nodes: : 0it [00:00, ?it/s]A\n",
      "\n",
      "Preprocessing Edges: 100%|██████████| 881/881 [00:00<00:00, 27563.03it/s]\u001b[A\n",
      "100%|██████████| 8592/8592 [00:05<00:00, 1550.75it/s]\n"
     ]
    },
    {
     "name": "stdout",
     "output_type": "stream",
     "text": [
      "Perc: 0.5\n",
      "p: 0.5 q: 4\n"
     ]
    },
    {
     "name": "stderr",
     "output_type": "stream",
     "text": [
      "Preprocessing Nodes: : 0it [00:00, ?it/s]\n",
      "Preprocessing Nodes: : 0it [00:00, ?it/s]A\n",
      "\n",
      "Preprocessing Edges: 100%|██████████| 881/881 [00:00<00:00, 30751.67it/s]\u001b[A\n",
      "100%|██████████| 8592/8592 [00:05<00:00, 1507.66it/s]\n"
     ]
    },
    {
     "name": "stdout",
     "output_type": "stream",
     "text": [
      "Perc: 0.5\n",
      "p: 1 q: 0.25\n"
     ]
    },
    {
     "name": "stderr",
     "output_type": "stream",
     "text": [
      "Preprocessing Nodes: : 0it [00:00, ?it/s]\n",
      "Preprocessing Nodes: : 0it [00:00, ?it/s]A\n",
      "\n",
      "Preprocessing Edges: 100%|██████████| 881/881 [00:00<00:00, 31603.82it/s]\u001b[A\n",
      "100%|██████████| 8592/8592 [00:05<00:00, 1554.93it/s] \n"
     ]
    },
    {
     "name": "stdout",
     "output_type": "stream",
     "text": [
      "Perc: 0.5\n",
      "p: 1 q: 0.5\n"
     ]
    },
    {
     "name": "stderr",
     "output_type": "stream",
     "text": [
      "Preprocessing Nodes: : 0it [00:00, ?it/s]\n",
      "Preprocessing Nodes: : 0it [00:00, ?it/s]A\n",
      "\n",
      "Preprocessing Edges: 100%|██████████| 881/881 [00:00<00:00, 30031.14it/s]\u001b[A\n",
      "100%|██████████| 8592/8592 [00:05<00:00, 1536.72it/s] \n"
     ]
    },
    {
     "name": "stdout",
     "output_type": "stream",
     "text": [
      "Perc: 0.5\n",
      "p: 1 q: 1\n"
     ]
    },
    {
     "name": "stderr",
     "output_type": "stream",
     "text": [
      "Preprocessing Nodes: : 0it [00:00, ?it/s]\n",
      "Preprocessing Nodes: : 0it [00:00, ?it/s]A\n",
      "\n",
      "Preprocessing Edges: 100%|██████████| 881/881 [00:00<00:00, 29333.36it/s]\u001b[A\n",
      "100%|██████████| 8592/8592 [00:05<00:00, 1582.67it/s] \n"
     ]
    },
    {
     "name": "stdout",
     "output_type": "stream",
     "text": [
      "Perc: 0.5\n",
      "p: 1 q: 2\n"
     ]
    },
    {
     "name": "stderr",
     "output_type": "stream",
     "text": [
      "Preprocessing Nodes: : 0it [00:00, ?it/s]\n",
      "Preprocessing Nodes: : 0it [00:00, ?it/s]A\n",
      "\n",
      "Preprocessing Edges: 100%|██████████| 881/881 [00:00<00:00, 29373.00it/s]\u001b[A\n",
      "100%|██████████| 8592/8592 [00:05<00:00, 1494.97it/s]\n"
     ]
    },
    {
     "name": "stdout",
     "output_type": "stream",
     "text": [
      "Perc: 0.5\n",
      "p: 1 q: 4\n"
     ]
    },
    {
     "name": "stderr",
     "output_type": "stream",
     "text": [
      "Preprocessing Nodes: : 0it [00:00, ?it/s]\n",
      "Preprocessing Nodes: : 0it [00:00, ?it/s]A\n",
      "\n",
      "Preprocessing Edges: 100%|██████████| 881/881 [00:00<00:00, 31173.24it/s]\u001b[A\n",
      "100%|██████████| 8592/8592 [00:05<00:00, 1581.20it/s] \n"
     ]
    },
    {
     "name": "stdout",
     "output_type": "stream",
     "text": [
      "Perc: 0.5\n",
      "p: 2 q: 0.25\n"
     ]
    },
    {
     "name": "stderr",
     "output_type": "stream",
     "text": [
      "Preprocessing Nodes: : 0it [00:00, ?it/s]\n",
      "Preprocessing Nodes: : 0it [00:00, ?it/s]A\n",
      "\n",
      "Preprocessing Edges: 100%|██████████| 881/881 [00:00<00:00, 31939.27it/s]\u001b[A\n",
      "100%|██████████| 8592/8592 [00:05<00:00, 1453.77it/s] \n"
     ]
    },
    {
     "name": "stdout",
     "output_type": "stream",
     "text": [
      "Perc: 0.5\n",
      "p: 2 q: 0.5\n"
     ]
    },
    {
     "name": "stderr",
     "output_type": "stream",
     "text": [
      "Preprocessing Nodes: : 0it [00:00, ?it/s]\n",
      "Preprocessing Nodes: : 0it [00:00, ?it/s]A\n",
      "\n",
      "Preprocessing Edges: 100%|██████████| 881/881 [00:00<00:00, 25434.37it/s]\u001b[A\n",
      "100%|██████████| 8592/8592 [00:05<00:00, 1536.83it/s] \n"
     ]
    },
    {
     "name": "stdout",
     "output_type": "stream",
     "text": [
      "Perc: 0.5\n",
      "p: 2 q: 1\n"
     ]
    },
    {
     "name": "stderr",
     "output_type": "stream",
     "text": [
      "Preprocessing Nodes: : 0it [00:00, ?it/s]\n",
      "Preprocessing Nodes: : 0it [00:00, ?it/s]A\n",
      "\n",
      "Preprocessing Edges: 100%|██████████| 881/881 [00:00<00:00, 30837.38it/s]\u001b[A\n",
      "100%|██████████| 8592/8592 [00:05<00:00, 1537.42it/s] \n"
     ]
    },
    {
     "name": "stdout",
     "output_type": "stream",
     "text": [
      "Perc: 0.5\n",
      "p: 2 q: 2\n"
     ]
    },
    {
     "name": "stderr",
     "output_type": "stream",
     "text": [
      "Preprocessing Nodes: : 0it [00:00, ?it/s]\n",
      "Preprocessing Nodes: : 0it [00:00, ?it/s]A\n",
      "\n",
      "Preprocessing Edges: 100%|██████████| 881/881 [00:00<00:00, 29762.41it/s]\u001b[A\n",
      "100%|██████████| 8592/8592 [00:05<00:00, 1477.66it/s] \n"
     ]
    },
    {
     "name": "stdout",
     "output_type": "stream",
     "text": [
      "Perc: 0.5\n",
      "p: 2 q: 4\n"
     ]
    },
    {
     "name": "stderr",
     "output_type": "stream",
     "text": [
      "Preprocessing Nodes: : 0it [00:00, ?it/s]\n",
      "Preprocessing Nodes: : 0it [00:00, ?it/s]A\n",
      "\n",
      "Preprocessing Edges: 100%|██████████| 881/881 [00:00<00:00, 28057.14it/s]\u001b[A\n",
      "100%|██████████| 8592/8592 [00:05<00:00, 1435.19it/s] \n"
     ]
    },
    {
     "name": "stdout",
     "output_type": "stream",
     "text": [
      "Perc: 0.5\n",
      "p: 4 q: 0.25\n"
     ]
    },
    {
     "name": "stderr",
     "output_type": "stream",
     "text": [
      "Preprocessing Nodes: : 0it [00:00, ?it/s]\n",
      "Preprocessing Nodes: : 0it [00:00, ?it/s]A\n",
      "\n",
      "Preprocessing Edges: 100%|██████████| 881/881 [00:00<00:00, 31140.40it/s]\u001b[A\n",
      "100%|██████████| 8592/8592 [00:06<00:00, 1382.82it/s] \n"
     ]
    },
    {
     "name": "stdout",
     "output_type": "stream",
     "text": [
      "Perc: 0.5\n",
      "p: 4 q: 0.5\n"
     ]
    },
    {
     "name": "stderr",
     "output_type": "stream",
     "text": [
      "Preprocessing Nodes: : 0it [00:00, ?it/s]\n",
      "Preprocessing Nodes: : 0it [00:00, ?it/s]A\n",
      "\n",
      "Preprocessing Edges: 100%|██████████| 881/881 [00:00<00:00, 19195.65it/s]\u001b[A\n",
      "100%|██████████| 8592/8592 [00:07<00:00, 1175.25it/s]\n"
     ]
    },
    {
     "name": "stdout",
     "output_type": "stream",
     "text": [
      "Perc: 0.5\n",
      "p: 4 q: 1\n"
     ]
    },
    {
     "name": "stderr",
     "output_type": "stream",
     "text": [
      "Preprocessing Nodes: : 0it [00:00, ?it/s]\n",
      "Preprocessing Nodes: : 0it [00:00, ?it/s]A\n",
      "\n",
      "Preprocessing Edges: 100%|██████████| 881/881 [00:00<00:00, 26943.22it/s]\u001b[A\n",
      "100%|██████████| 8592/8592 [00:05<00:00, 1499.44it/s]\n"
     ]
    },
    {
     "name": "stdout",
     "output_type": "stream",
     "text": [
      "Perc: 0.5\n",
      "p: 4 q: 2\n"
     ]
    },
    {
     "name": "stderr",
     "output_type": "stream",
     "text": [
      "Preprocessing Nodes: : 0it [00:00, ?it/s]\n",
      "Preprocessing Nodes: : 0it [00:00, ?it/s]A\n",
      "\n",
      "Preprocessing Edges: 100%|██████████| 881/881 [00:00<00:00, 25045.29it/s]\u001b[A\n",
      "100%|██████████| 8592/8592 [00:05<00:00, 1539.16it/s] \n"
     ]
    },
    {
     "name": "stdout",
     "output_type": "stream",
     "text": [
      "Perc: 0.5\n",
      "p: 4 q: 4\n"
     ]
    },
    {
     "name": "stderr",
     "output_type": "stream",
     "text": [
      "Preprocessing Nodes: : 0it [00:00, ?it/s]\n",
      "Preprocessing Nodes: : 0it [00:00, ?it/s]A\n",
      "\n",
      "Preprocessing Edges: 100%|██████████| 881/881 [00:00<00:00, 31030.31it/s]\u001b[A\n",
      "100%|██████████| 8592/8592 [00:06<00:00, 1363.53it/s] \n"
     ]
    },
    {
     "name": "stdout",
     "output_type": "stream",
     "text": [
      "Perc: 0.5\n"
     ]
    }
   ],
   "source": [
    "RUN_NODE2VEC_FOR_GRID_SEARCH = True\n",
    "\n",
    "grid = {\n",
    "    'q': [0.25, 0.50, 1, 2, 4],\n",
    "    'p': [0.25, 0.50, 1, 2, 4]\n",
    "}\n",
    "\n",
    "evaluations = []\n",
    "\n",
    "for p in grid['p']:\n",
    "    for q in grid['q']:\n",
    "        print(f\"p: {p} q: {q}\")\n",
    "            \n",
    "        emb_file =  f\"../emb/{FILE_NAME}_q_{q}_p_{p}.emb\"\n",
    "\n",
    "        if RUN_NODE2VEC_FOR_GRID_SEARCH:\n",
    "            if DATASET_USED == Datasets.PPI:\n",
    "                run_node2vec(INPUT_FILE, emb_file, p, q, True)\n",
    "            elif DATASET_USED == Datasets.CORA:\n",
    "                run_node2vec(INPUT_FILE, emb_file, p, q, True, \",\")\n",
    "            elif DATASET_USED == Datasets.TERR:\n",
    "                run_node2vec(INPUT_FILE, emb_file, p, q, False, \",\")\n",
    "\n",
    "        if DATASET_USED == Datasets.PPI:\n",
    "            df = get_ppi_dataset(emb_file)\n",
    "        if DATASET_USED == Datasets.TERR:\n",
    "            df = get_cora_dataset(emb_file)\n",
    "        elif DATASET_USED == Datasets.CORA:\n",
    "            df = get_cora_dataset(emb_file)\n",
    "            \n",
    "        micro, macro = evaluate(df, [0.5])\n",
    "        \n",
    "        evaluations.append((q, p, micro, macro))"
   ]
  },
  {
   "cell_type": "code",
   "execution_count": 41,
   "id": "2ef9fafe",
   "metadata": {},
   "outputs": [
    {
     "name": "stdout",
     "output_type": "stream",
     "text": [
      "(1, 0.5, [95.01133786848072], [92.22399294394675])\n",
      "(4, 0.5, [94.98866213151928], [92.23012521945651])\n"
     ]
    }
   ],
   "source": [
    "# Max micro and macro scores\n",
    "micro = [x[2][0] for x in evaluations]\n",
    "macro = [x[3][0] for x in evaluations]\n",
    "\n",
    "max_micro_index = micro.index(max(micro))\n",
    "max_macro_index = macro.index(max(macro))\n",
    "\n",
    "print(evaluations[max_micro_index])\n",
    "print(evaluations[max_macro_index])"
   ]
  },
  {
   "cell_type": "code",
   "execution_count": 42,
   "id": "32f8c0fd",
   "metadata": {},
   "outputs": [
    {
     "data": {
      "image/png": "[encoded data removed]",
      "text/plain": [
       "<Figure size 576x1152 with 1 Axes>"
      ]
     },
     "metadata": {
      "needs_background": "light"
     },
     "output_type": "display_data"
    },
    {
     "data": {
      "image/png": "[encoded data removed]",
      "text/plain": [
       "<Figure size 576x1152 with 1 Axes>"
      ]
     },
     "metadata": {
      "needs_background": "light"
     },
     "output_type": "display_data"
    }
   ],
   "source": [
    "class Scores(Enum):\n",
    "    MACRO = 1\n",
    "    MICRO = 2\n",
    "    \n",
    "q = [np.log2(x[0]) for x in evaluations]\n",
    "p = [np.log2(x[1]) for x in evaluations]\n",
    "micro = [x[2][0] for x in evaluations]\n",
    "macro = [x[3][0] for x in evaluations]\n",
    "\n",
    "def plot_grid(p, q, scores, score_enum):\n",
    "    q = np.array(q)\n",
    "    p = np.array(p)\n",
    "    scores = np.array(scores)\n",
    "    \n",
    "    if score_enum == Scores.MICRO:\n",
    "        exp_name =  \"micro_score\"\n",
    "        label = \"Micro F$_1$\"\n",
    "    elif score_enum == Scores.MACRO:\n",
    "        exp_name =  \"macro_score\"\n",
    "        label = \"Macro F$_1$\"\n",
    "\n",
    "    fig = plt.figure(figsize=(8, 16))\n",
    "    ax = fig.add_subplot(111, projection='3d')\n",
    "\n",
    "    \n",
    "    min_lim = min(scores)-2\n",
    "    max_lim = max(scores)+2\n",
    "    ax.bar3d(q, p, min_lim*np.ones(len(scores)),\n",
    "              1, 1, scores-min_lim)\n",
    "    \n",
    "    ax.set(zlim=(min_lim, max_lim))\n",
    "\n",
    "    ax.set_xlabel('$\\log_2(q)$')\n",
    "    ax.set_ylabel('$\\log_2(p)$')\n",
    "    ax.set_zlabel(label)\n",
    "    plt.savefig(f\"../images/classification/grid_{exp_name}_{FILE_NAME}.png\", dpi=500)\n",
    "\n",
    "plot_grid(p, q, micro, Scores.MICRO)\n",
    "plot_grid(p, q, macro, Scores.MACRO)"
   ]
  },
  {
   "cell_type": "markdown",
   "id": "cad45677",
   "metadata": {},
   "source": [
    "# Scalability (Not used in presentation)"
   ]
  },
  {
   "cell_type": "code",
   "execution_count": null,
   "id": "3f85790c",
   "metadata": {
    "scrolled": true
   },
   "outputs": [
    {
     "name": "stderr",
     "output_type": "stream",
     "text": [
      "Preprocessing Nodes: : 0it [00:00, ?it/s]\n",
      "Preprocessing Nodes: : 0it [00:00, ?it/s]A\n",
      "\n",
      "Preprocessing Edges: 100%|██████████| 100/100 [00:00<00:00, 35861.01it/s]\u001b[A\n",
      "100%|██████████| 477/477 [00:00<00:00, 1133.80it/s]\n"
     ]
    },
    {
     "name": "stdout",
     "output_type": "stream",
     "text": [
      "Wall time for 100 nodes: 1.0944504737854004\n"
     ]
    },
    {
     "name": "stderr",
     "output_type": "stream",
     "text": [
      "Preprocessing Nodes: : 0it [00:00, ?it/s]\n",
      "Preprocessing Nodes: : 0it [00:00, ?it/s][A\n",
      "\n",
      "Preprocessing Edges: 100%|██████████| 1000/1000 [00:00<00:00, 45046.28it/s]\u001b[A\n",
      "100%|██████████| 5041/5041 [00:04<00:00, 1046.65it/s] \n"
     ]
    },
    {
     "name": "stdout",
     "output_type": "stream",
     "text": [
      "Wall time for 1000 nodes: 5.574780225753784\n"
     ]
    },
    {
     "name": "stderr",
     "output_type": "stream",
     "text": [
      "Preprocessing Nodes: : 0it [00:00, ?it/s]\n",
      "Preprocessing Nodes: : 0it [00:00, ?it/s]\u001b[A\n",
      "\n",
      " 41%|████      | 4071/10000 [00:00<00:00, 40705.67it/s]\u001b[A\n",
      " 91%|█████████ | 9080/10000 [00:00<00:00, 46222.86it/s]\u001b[A\n",
      "Preprocessing Edges: 100%|██████████| 10000/10000 [00:00<00:00, 44765.17it/s]\u001b[A\n",
      "100%|██████████| 50163/50163 [01:05<00:00, 771.07it/s]  \n"
     ]
    },
    {
     "name": "stdout",
     "output_type": "stream",
     "text": [
      "Wall time for 10000 nodes: 66.38161754608154\n"
     ]
    },
    {
     "name": "stderr",
     "output_type": "stream",
     "text": [
      "Preprocessing Nodes: : 0it [00:00, ?it/s]\n",
      "Preprocessing Nodes: : 0it [00:00, ?it/s]\u001b[A\n",
      "\n",
      "  4%|▍         | 3967/99995 [00:00<00:02, 39667.39it/s]\u001b[A\n",
      "  8%|▊         | 8420/99995 [00:00<00:02, 42523.64it/s]\u001b[A\n",
      " 13%|█▎        | 12673/99995 [00:00<00:02, 41442.69it/s]\u001b[A\n",
      " 17%|█▋        | 17029/99995 [00:00<00:01, 42261.19it/s]\u001b[A\n",
      " 21%|██▏       | 21439/99995 [00:00<00:01, 42916.35it/s]\u001b[A\n",
      " 26%|██▌       | 25734/99995 [00:00<00:01, 41759.40it/s]\u001b[A\n",
      " 30%|███       | 30365/99995 [00:00<00:01, 43212.61it/s]\u001b[A\n",
      " 35%|███▌      | 35037/99995 [00:00<00:01, 44310.96it/s]\u001b[A\n",
      " 39%|███▉      | 39476/99995 [00:00<00:01, 43845.18it/s]\u001b[A\n",
      " 44%|████▍     | 43948/99995 [00:01<00:01, 44109.56it/s]\u001b[A\n",
      " 49%|████▊     | 48573/99995 [00:01<00:01, 44756.18it/s]\u001b[A\n",
      " 53%|█████▎    | 53053/99995 [00:01<00:01, 44085.40it/s]\u001b[A\n",
      " 58%|█████▊    | 57639/99995 [00:01<00:00, 44612.22it/s]\u001b[A\n",
      " 62%|██████▏   | 62105/99995 [00:01<00:00, 44210.28it/s]\u001b[A\n",
      " 67%|██████▋   | 66530/99995 [00:01<00:00, 41961.44it/s]\u001b[A\n",
      " 71%|███████   | 70961/99995 [00:01<00:00, 42633.63it/s]\u001b[A\n",
      " 76%|███████▌  | 75786/99995 [00:01<00:00, 44265.17it/s]\u001b[A\n",
      " 80%|████████  | 80415/99995 [00:01<00:00, 44857.55it/s]\u001b[A\n",
      " 85%|████████▌ | 85273/99995 [00:01<00:00, 45955.57it/s]\u001b[A\n",
      " 90%|█████████ | 90000/99995 [00:02<00:00, 46344.63it/s]\u001b[A\n",
      " 95%|█████████▍| 94644/99995 [00:02<00:00, 45103.63it/s]\u001b[A\n",
      " 99%|█████████▉| 99480/99995 [00:02<00:00, 46055.24it/s]\u001b[A\n",
      "Preprocessing Edges: 100%|██████████| 99995/99995 [00:02<00:00, 43755.88it/s]\u001b[A\n",
      "100%|██████████| 500798/500798 [00:47<00:00, 16695.77it/s]"
     ]
    }
   ],
   "source": [
    "import time\n",
    "import networkx as nx\n",
    "\n",
    "\n",
    "NODES_NUM_LIST = [10**x for x in range(2, 7)]\n",
    "DEGREE = 10\n",
    "wall_time_experiments = []\n",
    "\n",
    "def export_graph(G, relative_path):\n",
    "    G_int = nx.convert_node_labels_to_integers(G, first_label = 0)\n",
    "    nx.readwrite.edgelist.write_edgelist(G = G_int, path = relative_path, data = False)\n",
    "\n",
    "for nodes_num in NODES_NUM_LIST:\n",
    "    G = nx.generators.random_graphs.erdos_renyi_graph(nodes_num, DEGREE/nodes_num)\n",
    "\n",
    "    input_relative_path = f\"../graph/scalability/nodesNum_{nodes_num}_scalability.edgelist\"\n",
    "    export_graph(G, input_relative_path)\n",
    "    output_relative_path = f\"../graph/scalability/nodesNum_{nodes_num}_scalability.emb\"\n",
    "    \n",
    "    start_time = time.time()\n",
    "    run_node2vec(input_relative_path, output_relative_path)\n",
    "    total_time = time.time() - start_time\n",
    "    \n",
    "    wall_time_experiments.append(total_time)\n",
    "    print(f\"Wall time for {nodes_num} nodes: {total_time}\")"
   ]
  },
  {
   "cell_type": "code",
   "execution_count": null,
   "id": "ca9c72fb",
   "metadata": {},
   "outputs": [],
   "source": [
    "def plot_scalability_exp(nodes_num_list, wall_times):\n",
    "    fig, ax = plt.subplots(figsize=(12, 6))\n",
    "    \n",
    "    plt.plot(nodes_num_list, wall_times, marker='o')\n",
    "        \n",
    "    plt.xlabel(\"$\\log_10$ nodes\")\n",
    "    plt.ylabel(\"time (seconds)\")\n",
    "    plt.savefig(f\"../images/classification/scalability.png\", dpi=300)\n",
    "    \n",
    "plot_scalability_exp(np.log(NODES_NUM_LIST), np.log(wall_time_experiments))"
   ]
  },
  {
   "cell_type": "code",
   "execution_count": null,
   "id": "be41dd71",
   "metadata": {},
   "outputs": [],
   "source": []
  }
 ],
 "metadata": {
  "kernelspec": {
   "display_name": "Python 3 (ipykernel)",
   "language": "python",
   "name": "python3"
  },
  "language_info": {
   "codemirror_mode": {
    "name": "ipython",
    "version": 3
   },
   "file_extension": ".py",
   "mimetype": "text/x-python",
   "name": "python",
   "nbconvert_exporter": "python",
   "pygments_lexer": "ipython3",
   "version": "3.9.7"
  }
 },
 "nbformat": 4,
 "nbformat_minor": 5
}
