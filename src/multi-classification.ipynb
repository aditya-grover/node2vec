{
 "cells": [
  {
   "cell_type": "code",
   "execution_count": 27,
   "id": "937def9f",
   "metadata": {},
   "outputs": [],
   "source": [
    "from sklearn.linear_model import LogisticRegression as lr\n",
    "from sklearn.multiclass import OneVsRestClassifier\n",
    "from sklearn.metrics import f1_score\n",
    "from sklearn.preprocessing import MultiLabelBinarizer\n",
    "from sklearn.model_selection import train_test_split\n",
    "\n",
    "import matplotlib.pyplot as plt\n",
    "import pandas  as pd\n",
    "import numpy as np"
   ]
  },
  {
   "cell_type": "code",
   "execution_count": 16,
   "id": "90912125",
   "metadata": {},
   "outputs": [],
   "source": [
    "DATASET_TO_USE = \"PPI\"\n",
    "\n",
    "def get_ppi_dataset():\n",
    "    # first row has the # of nodes and features\n",
    "    emb_df = pd.read_csv(EMB_FILE, sep=\" \", skiprows=1, header=None)\n",
    "    emb_df.columns = ['node_id'] + [f\"f{x}\" for x in range(1, emb_df.shape[1])]\n",
    "\n",
    "    lines = [line for line in open(INPUT_FILE).read().splitlines()]\n",
    "    node_ids = [int(line.split()[0]) for line in lines]\n",
    "    labels = [list(map(int, line.split()[1:])) for line in lines]\n",
    "    input_df = pd.DataFrame({'node_id': node_ids, 'labels': labels})\n",
    "    \n",
    "    result_df = pd.merge(emb_df, input_df, on='node_id', how='inner')\n",
    "    \n",
    "    return result_df\n",
    "\n",
    "def get_blog_dataset():\n",
    "    # first row has the # of nodes and features\n",
    "    emb_df = pd.read_csv(EMB_FILE, sep=\" \", skiprows=1, header=None)\n",
    "    emb_df.columns = ['node_id'] + [f\"f{x}\" for x in range(1, emb_df.shape[1])]\n",
    "\n",
    "    input_df = pd.read_csv(INPUT_FILE, header=None, names=[\"node_id\", \"label\"])\n",
    "    input_df_grouped = input_df.groupby(by=['node_id'])['label'].apply(list).reset_index(name ='labels')\n",
    "    result_df = pd.merge(emb_df, input_df_grouped, on='node_id', how='inner')\n",
    "    \n",
    "    return result_df\n",
    "\n",
    "\n",
    "if \"PPI\":\n",
    "    EMB_FILE = \"../emb/ppi.emb\"\n",
    "    INPUT_FILE = \"../data/PPI/ppi_labels.txt\"\n",
    "    df = get_ppi_dataset()\n",
    "else:\n",
    "    EMB_FILE = \"../emb/seed_1_perc_0.5_blog_catalog.emb\"\n",
    "    INPUT_FILE = \"../data/BlogCatalog/group-edges.csv\"\n",
    "    df = get_dataset()"
   ]
  },
  {
   "cell_type": "code",
   "execution_count": 25,
   "id": "4c60ef12",
   "metadata": {},
   "outputs": [],
   "source": [
    "# Extend prediction function for the OVR logistic regression model\n",
    "class TopKRanker(OneVsRestClassifier):\n",
    "    def predict(self, X, top_k_list):\n",
    "        \"\"\"\n",
    "        return the labels with the highest k probabilities prediction, where k is the number of labels Y_test have\n",
    "        \"\"\"\n",
    "        probs = np.asarray(super(TopKRanker, self).predict_proba(X))\n",
    "        all_labels = []\n",
    "        for i, k in enumerate(top_k_list):\n",
    "            probs_ = probs[i, :]\n",
    "            labels = self.classes_[probs_.argsort()[-k:]].tolist()\n",
    "            probs_[:] = 0\n",
    "            probs_[labels] = 1\n",
    "            all_labels.append(probs_)\n",
    "        return np.asarray(all_labels)"
   ]
  },
  {
   "cell_type": "code",
   "execution_count": 28,
   "id": "30f1f9e5",
   "metadata": {
    "scrolled": true
   },
   "outputs": [
    {
     "name": "stderr",
     "output_type": "stream",
     "text": [
      "/home/yasser/.local/lib/python3.9/site-packages/sklearn/metrics/_classification.py:1570: UndefinedMetricWarning: F-score is ill-defined and being set to 0.0 in labels with no true nor predicted samples. Use `zero_division` parameter to control this behavior.\n",
      "  _warn_prf(average, \"true nor predicted\", \"F-score is\", len(true_sum))\n",
      "/home/yasser/.local/lib/python3.9/site-packages/sklearn/metrics/_classification.py:1570: UndefinedMetricWarning: F-score is ill-defined and being set to 0.0 in labels with no true nor predicted samples. Use `zero_division` parameter to control this behavior.\n",
      "  _warn_prf(average, \"true nor predicted\", \"F-score is\", len(true_sum))\n",
      "/home/yasser/.local/lib/python3.9/site-packages/sklearn/metrics/_classification.py:1570: UndefinedMetricWarning: F-score is ill-defined and being set to 0.0 in labels with no true nor predicted samples. Use `zero_division` parameter to control this behavior.\n",
      "  _warn_prf(average, \"true nor predicted\", \"F-score is\", len(true_sum))\n"
     ]
    },
    {
     "name": "stdout",
     "output_type": "stream",
     "text": [
      "Perc: 0.1\n",
      "Perc: 0.2\n",
      "Perc: 0.3\n",
      "Perc: 0.4\n",
      "Perc: 0.5\n",
      "Perc: 0.6\n",
      "Perc: 0.7\n",
      "Perc: 0.8\n"
     ]
    },
    {
     "name": "stderr",
     "output_type": "stream",
     "text": [
      "/home/yasser/.local/lib/python3.9/site-packages/sklearn/multiclass.py:79: UserWarning: Label not 11 is present in all training examples.\n",
      "  warnings.warn(\n",
      "/home/yasser/.local/lib/python3.9/site-packages/sklearn/multiclass.py:79: UserWarning: Label not 49 is present in all training examples.\n",
      "  warnings.warn(\n",
      "/home/yasser/.local/lib/python3.9/site-packages/sklearn/multiclass.py:79: UserWarning: Label not 44 is present in all training examples.\n",
      "  warnings.warn(\n"
     ]
    },
    {
     "name": "stdout",
     "output_type": "stream",
     "text": [
      "Perc: 0.9\n"
     ]
    }
   ],
   "source": [
    "\n",
    "# test and train datasets are equal\n",
    "test_perc_list =  [x/10 for x in range(1, 10)]\n",
    "\n",
    "\n",
    "evaluations_micro = []\n",
    "evaluations_macro = []\n",
    "num_iter = 10\n",
    "\n",
    "Y = df['labels']\n",
    "X = df.drop(columns=['labels', 'node_id'])\n",
    "\n",
    "# binarize data\n",
    "binarizer = MultiLabelBinarizer()\n",
    "binarizer.fit(Y)\n",
    "\n",
    "lr =  OneVsRestClassifier(lr(solver='liblinear'))\n",
    "clf = TopKRanker(lr)\n",
    "\n",
    "for perc in test_perc_list:\n",
    "    eva_micro = []\n",
    "    eva_macro = []\n",
    "    for x in range(num_iter):\n",
    "\n",
    "        X_train, X_test, Y_train, Y_test = train_test_split(X, Y, test_size=perc)\n",
    "\n",
    "        Y_train = binarizer.transform(Y_train)\n",
    "\n",
    "        Y_test_b = binarizer.transform(Y_test)\n",
    "\n",
    "        # evaluation\n",
    "        clf.fit(X_train, Y_train)\n",
    "        top_k_list = [len(l) for l in Y_test]\n",
    "        Y_pred = clf.predict(X_test, top_k_list=top_k_list)\n",
    "\n",
    "        eva_micro.append(f1_score(Y_test_b, Y_pred, average='micro', zero_division=0))\n",
    "        eva_macro.append(f1_score(Y_test_b, Y_pred, average='macro', zero_division=0))\n",
    "        \n",
    "    evaluations_micro.append((perc, sum(eva_micro)/num_iter*100),)\n",
    "    evaluations_macro.append((perc, sum(eva_macro)/num_iter*100))\n",
    "    print(f\"Perc: {perc}\")"
   ]
  },
  {
   "cell_type": "code",
   "execution_count": 53,
   "id": "1023434f",
   "metadata": {},
   "outputs": [
    {
     "data": {
      "image/png": "[encoded data removed]",
      "text/plain": [
       "<Figure size 864x432 with 1 Axes>"
      ]
     },
     "metadata": {
      "needs_background": "light"
     },
     "output_type": "display_data"
    }
   ],
   "source": [
    "def plot_scores(micro, macro):\n",
    "    fig, ax = plt.subplots(figsize=(12, 6))\n",
    "\n",
    "    perc = [x[0] for x in micro]\n",
    "    micro_score = [x[1] for x in micro]\n",
    "    macro_score = [x[1] for x in macro]\n",
    "    micro_score.reverse()\n",
    "    macro_score.reverse()\n",
    "    \n",
    "    plt.plot(perc, micro_score, marker='o', label='Micro F1')\n",
    "    \n",
    "    plt.plot(perc, macro_score, marker='o', label='Macro F1')\n",
    "        \n",
    "        \n",
    "    \n",
    "    plt.xlabel(\"Test perc\")\n",
    "    plt.ylabel(\"Score\")\n",
    "    plt.legend(loc='best')\n",
    "    plt.show()\n",
    "    \n",
    "plot_scores(evaluations_micro, evaluations_macro)"
   ]
  }
 ],
 "metadata": {
  "kernelspec": {
   "display_name": "Python 3 (ipykernel)",
   "language": "python",
   "name": "python3"
  },
  "language_info": {
   "codemirror_mode": {
    "name": "ipython",
    "version": 3
   },
   "file_extension": ".py",
   "mimetype": "text/x-python",
   "name": "python",
   "nbconvert_exporter": "python",
   "pygments_lexer": "ipython3",
   "version": "3.9.7"
  }
 },
 "nbformat": 4,
 "nbformat_minor": 5
}
