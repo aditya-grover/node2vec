{
 "cells": [
  {
   "cell_type": "code",
   "execution_count": 26,
   "id": "937def9f",
   "metadata": {},
   "outputs": [],
   "source": [
    "from sklearn.linear_model import LogisticRegression as lr\n",
    "from sklearn.multiclass import OneVsRestClassifier\n",
    "from sklearn.metrics import f1_score\n",
    "from sklearn.preprocessing import MultiLabelBinarizer\n",
    "from sklearn.model_selection import train_test_split\n",
    "\n",
    "import matplotlib.pyplot as plt\n",
    "import pandas  as pd\n",
    "import numpy as np"
   ]
  },
  {
   "cell_type": "code",
   "execution_count": 27,
   "id": "90912125",
   "metadata": {},
   "outputs": [],
   "source": [
    "DATASET_TO_USE = \"ppi\"\n",
    "\n",
    "def get_ppi_dataset(emb_file):\n",
    "    \"\"\"\n",
    "    returns a dataframe with embeddings and labels\n",
    "    \"\"\"\n",
    "    # first row has the # of nodes and features\n",
    "    emb_df = pd.read_csv(emb_file, sep=\" \", skiprows=1, header=None)\n",
    "    emb_df.columns = ['node_id'] + [f\"f{x}\" for x in range(1, emb_df.shape[1])]\n",
    "\n",
    "    lines = [line for line in open(LABELS_FILE).read().splitlines()]\n",
    "    node_ids = [int(line.split()[0]) for line in lines]\n",
    "    labels = [list(map(int, line.split()[1:])) for line in lines]\n",
    "    input_df = pd.DataFrame({'node_id': node_ids, 'labels': labels})\n",
    "    \n",
    "    result_df = pd.merge(emb_df, input_df, on='node_id', how='inner')\n",
    "    \n",
    "    return result_df\n",
    "\n",
    "def get_blog_dataset():\n",
    "    # first row has the # of nodes and features\n",
    "    emb_df = pd.read_csv(EMB_FILE, sep=\" \", skiprows=1, header=None)\n",
    "    emb_df.columns = ['node_id'] + [f\"f{x}\" for x in range(1, emb_df.shape[1])]\n",
    "\n",
    "    input_df = pd.read_csv(INPUT_FILE, header=None, names=[\"node_id\", \"label\"])\n",
    "    input_df_grouped = input_df.groupby(by=['node_id'])['label'].apply(list).reset_index(name ='labels')\n",
    "    result_df = pd.merge(emb_df, input_df_grouped, on='node_id', how='inner')\n",
    "    \n",
    "    return result_df\n",
    "\n",
    "\n",
    "if DATASET_TO_USE == \"ppi\":\n",
    "    LABELS_FILE = \"../data/PPI/ppi_labels.txt\"\n",
    "    emb_file = \"../emb/ppi.emb\"\n",
    "    df = get_ppi_dataset(emb_file)\n",
    "else:\n",
    "    EMB_FILE = \"../emb/seed_1_perc_0.5_blog_catalog.emb\"\n",
    "    LABELS_FILE = \"../data/BlogCatalog/group-edges.csv\"\n",
    "    df = get_blog_dataset()"
   ]
  },
  {
   "cell_type": "code",
   "execution_count": 10,
   "id": "4c60ef12",
   "metadata": {},
   "outputs": [],
   "source": [
    "# Extend prediction function for the OVR logistic regression model\n",
    "# This code is taken from https://github.com/Kombustor/submission-ecir2020-randomwalks/blob/submission/impl/model/classify.py#L11\n",
    "class TopKRanker(OneVsRestClassifier):\n",
    "    def predict(self, X, top_k_list):\n",
    "        \"\"\"\n",
    "        return the labels with the highest k probabilities prediction, where k is the number of labels Y_test have\n",
    "        \"\"\"\n",
    "        probs = np.asarray(super(TopKRanker, self).predict_proba(X))\n",
    "        all_labels = []\n",
    "        for i, k in enumerate(top_k_list):\n",
    "            probs_ = probs[i, :]\n",
    "            labels = self.classes_[probs_.argsort()[-k:]].tolist()\n",
    "            probs_[:] = 0\n",
    "            probs_[labels] = 1\n",
    "            all_labels.append(probs_)\n",
    "        return np.asarray(all_labels)"
   ]
  },
  {
   "cell_type": "code",
   "execution_count": 23,
   "id": "30f1f9e5",
   "metadata": {
    "scrolled": true
   },
   "outputs": [],
   "source": [
    "def evaluate(df, test_sizes, num_iter=10):\n",
    "    evaluations_micro = []\n",
    "    evaluations_macro = []\n",
    "\n",
    "    Y = df['labels']\n",
    "    X = df.drop(columns=['labels', 'node_id'])\n",
    "\n",
    "    # binarize data\n",
    "    binarizer = MultiLabelBinarizer()\n",
    "    binarizer.fit(Y)\n",
    "\n",
    "    # Linear regression uses L2 regularization by default\n",
    "    ovr_lr =  OneVsRestClassifier(lr(solver='liblinear'))\n",
    "    clf = TopKRanker(ovr_lr)\n",
    "\n",
    "    for test_size in test_sizes:\n",
    "        micro_scores = []\n",
    "        macro_scores = []\n",
    "        for x in range(num_iter):\n",
    "\n",
    "            X_train, X_test, Y_train, Y_test = train_test_split(X, Y, test_size=test_size)\n",
    "\n",
    "            Y_train = binarizer.transform(Y_train)\n",
    "\n",
    "            top_k_list = [len(l) for l in Y_test]\n",
    "            Y_test = binarizer.transform(Y_test)\n",
    "\n",
    "            # evaluation\n",
    "            clf.fit(X_train, Y_train)\n",
    "            Y_pred = clf.predict(X_test, top_k_list=top_k_list)\n",
    "\n",
    "            micro_scores.append(f1_score(Y_test, Y_pred, average='micro', zero_division=0))\n",
    "            macro_scores.append(f1_score(Y_test, Y_pred, average='macro', zero_division=0))\n",
    "        \n",
    "        print(micro_scores)\n",
    "        evaluations_micro.append((test_size, sum(micro_scores)/num_iter*100),)\n",
    "        evaluations_macro.append((test_size, sum(macro_scores)/num_iter*100))\n",
    "        print(f\"Perc: {test_size}\")\n",
    "    return evaluations_micro, evaluations_macro"
   ]
  },
  {
   "cell_type": "code",
   "execution_count": 28,
   "id": "1db5e265",
   "metadata": {},
   "outputs": [
    {
     "name": "stdout",
     "output_type": "stream",
     "text": [
      "[0.21301247771836007, 0.21549636803874092, 0.21583383503913306, 0.2156441717791411, 0.21317474839890208]\n",
      "Perc: 0.5\n"
     ]
    }
   ],
   "source": [
    "test_size_exp =  [x/10 for x in range(1, 10)]\n",
    "test_size_exp = [0.5]\n",
    "micro, macro = evaluate(df, test_size_exp, 5)"
   ]
  },
  {
   "cell_type": "code",
   "execution_count": 75,
   "id": "1023434f",
   "metadata": {},
   "outputs": [
    {
     "data": {
      "image/png": "[encoded data removed]",
      "text/plain": [
       "<Figure size 864x432 with 1 Axes>"
      ]
     },
     "metadata": {
      "needs_background": "light"
     },
     "output_type": "display_data"
    }
   ],
   "source": [
    "def plot_scores(micro, macro):\n",
    "    fig, ax = plt.subplots(figsize=(12, 6))\n",
    "\n",
    "    perc = [x[0] for x in micro]\n",
    "    micro_score = [x[1] for x in micro]\n",
    "    macro_score = [x[1] for x in macro]\n",
    "    micro_score.reverse()\n",
    "    macro_score.reverse()\n",
    "    \n",
    "    plt.plot(perc, micro_score, marker='o', label='Micro $F_1$')\n",
    "    \n",
    "    plt.plot(perc, macro_score, marker='o', label='Macro $F_1$')\n",
    "        \n",
    "        \n",
    "    \n",
    "    plt.xlabel(\"Test perc\")\n",
    "    plt.ylabel(\"Score\")\n",
    "    plt.legend(loc='best')\n",
    "    plt.show()\n",
    "    \n",
    "plot_scores(micro, macro)"
   ]
  },
  {
   "cell_type": "markdown",
   "id": "f1aafcae",
   "metadata": {},
   "source": [
    "# Grid search for q and p"
   ]
  },
  {
   "cell_type": "code",
   "execution_count": null,
   "id": "68fce045",
   "metadata": {},
   "outputs": [],
   "source": [
    "import subprocess\n",
    "\n",
    "grid = {\n",
    "    'q': [0.25, 0.50, 1, 2, 4]\n",
    "    'p': [0.25, 0.50, 1, 2, 4]\n",
    "}\n",
    "\n",
    "for p in grid['p']:\n",
    "    for q in grid['q']:\n",
    "    cmd = f\"python main.py --p {p} --q {q} --input {INPUT_FILE} --output {DATASET_TO_USE}_q_{q}_p_{p}\"\n",
    "    \n",
    "    if DATA_TO_USE == 'ppi':\n",
    "        df = get_ppi_dataset(emb_file)\n",
    "    \n",
    "    subprocess.run(cmd, shell=True)\n",
    "    evaluate()\n",
    "\n",
    "\n",
    "    "
   ]
  }
 ],
 "metadata": {
  "kernelspec": {
   "display_name": "Python 3 (ipykernel)",
   "language": "python",
   "name": "python3"
  },
  "language_info": {
   "codemirror_mode": {
    "name": "ipython",
    "version": 3
   },
   "file_extension": ".py",
   "mimetype": "text/x-python",
   "name": "python",
   "nbconvert_exporter": "python",
   "pygments_lexer": "ipython3",
   "version": "3.9.7"
  }
 },
 "nbformat": 4,
 "nbformat_minor": 5
}
